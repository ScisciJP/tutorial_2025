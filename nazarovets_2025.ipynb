{
 "cells": [
  {
   "cell_type": "code",
   "execution_count": 1,
   "id": "6decfb16",
   "metadata": {},
   "outputs": [],
   "source": [
    "# # Debugging purpose only\n",
    "# !which python\n",
    "# !pip show polars\n",
    "# import sys\n",
    "# print(sys.executable)"
   ]
  },
  {
   "cell_type": "code",
   "execution_count": 2,
   "id": "f46e1324",
   "metadata": {},
   "outputs": [
    {
     "data": {
      "text/plain": [
       "True"
      ]
     },
     "execution_count": 2,
     "metadata": {},
     "output_type": "execute_result"
    }
   ],
   "source": [
    "import os\n",
    "import polars as pl\n",
    "\n",
    "## For Google Colab: Manually set environment variables for AWS credentials\n",
    "# os.environ[\"AWS_ACCESS_KEY_ID\"] = \"YOUR_ACCESS_KEY_ID_HERE\"\n",
    "# os.environ[\"AWS_SECRET_ACCESS_KEY\"] = \"YOUR_ACCESS_KEY_ID_HERE\"\n",
    "# os.environ[\"AWS_DEFAULT_REGION\"] = \"us-west-2\"\n",
    "\n",
    "from dotenv import load_dotenv\n",
    "load_dotenv()"
   ]
  },
  {
   "cell_type": "code",
   "execution_count": 3,
   "id": "9f7bc385",
   "metadata": {},
   "outputs": [],
   "source": [
    "country_code = ['UA', 'HU', 'CZ']  # Example country code for Ukraine\n",
    "\n",
    "institution_country_code_lf = pl.scan_parquet(\"s3://openalex-bulk/institutions/country_code_00.parquet.zstd\")\n",
    "local_institutions_lf = institution_country_code_lf.explode(\"country_code\").filter(\n",
    "    pl.col(\"country_code\").is_in(country_code)\n",
    ")\n",
    "\n",
    "author_institution_lf = pl.scan_parquet(\"s3://openalex-bulk/authors/affiliations_institution_id_00.parquet.parquet.zstd\")\n",
    "\n",
    "local_researchers_lf = author_institution_lf.explode(\"affiliations_institution_id\").join(\n",
    "    local_institutions_lf,\n",
    "    left_on=\"affiliations_institution_id\",\n",
    "    right_on=\"institution_id\",\n",
    "    how=\"inner\"\n",
    ").select(\"author_id\", \"country_code\")"
   ]
  },
  {
   "cell_type": "code",
   "execution_count": 4,
   "id": "0c465456",
   "metadata": {},
   "outputs": [],
   "source": [
    "# def get_researcher_count_by_country(lf, country_code):\n",
    "#     df = lf.filter(\n",
    "#         pl.col(\"country_code\")==country_code\n",
    "#     ).unique(\"author_id\").collect()\n",
    "#     print(df.height, df.head())\n",
    "#     return df\n",
    "\n",
    "# target_country_authors_df = get_researcher_count_by_country(local_researchers_lf, \"UA\")"
   ]
  },
  {
   "cell_type": "code",
   "execution_count": 5,
   "id": "47515d45",
   "metadata": {},
   "outputs": [],
   "source": [
    "author_works_lf = pl.scan_parquet(\n",
    "    \"s3://openalex-bulk/works/author_works/*\",\n",
    "    storage_options={\"region\": \"us-west-2\"}\n",
    ").with_columns(\n",
    "    pl.col(\"work_id\").list.len().alias(\"works_count\")\n",
    ")\n",
    "\n",
    "publication_year_lf = pl.scan_parquet(\"s3://openalex-bulk/works/publication_year/*\")\\\n",
    ".filter(\n",
    "    pl.col(\"publication_year\")>2020,\n",
    "    pl.col(\"publication_year\")<2025,\n",
    ")\n",
    "\n",
    "oa_status_lf = pl.scan_parquet(\"s3://openalex-bulk/works/oa_status/*\").filter(\n",
    "    pl.col(\"oa_status\")==\"gold\"\n",
    ")\n",
    "\n",
    "work_filter_lf = publication_year_lf.join(\n",
    "    oa_status_lf,\n",
    "    on=\"work_id\",\n",
    "    how=\"inner\"\n",
    ")\n",
    "# work_filter_df = work_filter_lf.collect()"
   ]
  },
  {
   "cell_type": "code",
   "execution_count": 6,
   "id": "44110651",
   "metadata": {},
   "outputs": [],
   "source": [
    "local_works_lf = author_works_lf.join(\n",
    "    local_researchers_lf,\n",
    "    on=\"author_id\", how=\"inner\"\n",
    ").filter(\n",
    "    pl.col(\"works_count\") < 100,\n",
    "    pl.col(\"works_count\") > 3\n",
    ").explode(\"work_id\").join(\n",
    "    work_filter_lf,\n",
    "    on=\"work_id\",\n",
    "    how=\"inner\"\n",
    ")"
   ]
  },
  {
   "cell_type": "code",
   "execution_count": 7,
   "id": "dccfa9dc",
   "metadata": {},
   "outputs": [],
   "source": [
    "local_works_df = local_works_lf.collect(engine=\"streaming\")"
   ]
  },
  {
   "cell_type": "code",
   "execution_count": 10,
   "id": "cc240bc1",
   "metadata": {},
   "outputs": [
    {
     "data": {
      "text/plain": [
       "(shape: (5, 6)\n",
       " ┌─────────────┬─────────────┬─────────────┬──────────────┬──────────────────┬───────────┐\n",
       " │ author_id   ┆ work_id     ┆ works_count ┆ country_code ┆ publication_year ┆ oa_status │\n",
       " │ ---         ┆ ---         ┆ ---         ┆ ---          ┆ ---              ┆ ---       │\n",
       " │ str         ┆ str         ┆ u32         ┆ str          ┆ i64              ┆ str       │\n",
       " ╞═════════════╪═════════════╪═════════════╪══════════════╪══════════════════╪═══════════╡\n",
       " │ A5038089489 ┆ W4378473243 ┆ 65          ┆ CZ           ┆ 2023             ┆ gold      │\n",
       " │ A5043738774 ┆ W4398166789 ┆ 56          ┆ CZ           ┆ 2024             ┆ gold      │\n",
       " │ A5080842086 ┆ W4401328105 ┆ 62          ┆ CZ           ┆ 2024             ┆ gold      │\n",
       " │ A5021856564 ┆ W4403815689 ┆ 39          ┆ HU           ┆ 2024             ┆ gold      │\n",
       " │ A5021856564 ┆ W4403815689 ┆ 39          ┆ HU           ┆ 2024             ┆ gold      │\n",
       " └─────────────┴─────────────┴─────────────┴──────────────┴──────────────────┴───────────┘,\n",
       " 1065356)"
      ]
     },
     "execution_count": 10,
     "metadata": {},
     "output_type": "execute_result"
    }
   ],
   "source": [
    "local_works_df.head(), local_works_df.height"
   ]
  },
  {
   "cell_type": "code",
   "execution_count": 11,
   "id": "bffc93a5",
   "metadata": {},
   "outputs": [
    {
     "data": {
      "text/html": [
       "<div><style>\n",
       ".dataframe > thead > tr,\n",
       ".dataframe > tbody > tr {\n",
       "  text-align: right;\n",
       "  white-space: pre-wrap;\n",
       "}\n",
       "</style>\n",
       "<small>shape: (12, 3)</small><table border=\"1\" class=\"dataframe\"><thead><tr><th>country_code</th><th>publication_year</th><th>open_access_pub</th></tr><tr><td>str</td><td>i64</td><td>u32</td></tr></thead><tbody><tr><td>&quot;CZ&quot;</td><td>2021</td><td>107696</td></tr><tr><td>&quot;CZ&quot;</td><td>2022</td><td>99013</td></tr><tr><td>&quot;CZ&quot;</td><td>2023</td><td>101665</td></tr><tr><td>&quot;CZ&quot;</td><td>2024</td><td>82412</td></tr><tr><td>&quot;HU&quot;</td><td>2021</td><td>64468</td></tr><tr><td>&hellip;</td><td>&hellip;</td><td>&hellip;</td></tr><tr><td>&quot;HU&quot;</td><td>2024</td><td>56522</td></tr><tr><td>&quot;UA&quot;</td><td>2021</td><td>119939</td></tr><tr><td>&quot;UA&quot;</td><td>2022</td><td>97311</td></tr><tr><td>&quot;UA&quot;</td><td>2023</td><td>115378</td></tr><tr><td>&quot;UA&quot;</td><td>2024</td><td>89449</td></tr></tbody></table></div>"
      ],
      "text/plain": [
       "shape: (12, 3)\n",
       "┌──────────────┬──────────────────┬─────────────────┐\n",
       "│ country_code ┆ publication_year ┆ open_access_pub │\n",
       "│ ---          ┆ ---              ┆ ---             │\n",
       "│ str          ┆ i64              ┆ u32             │\n",
       "╞══════════════╪══════════════════╪═════════════════╡\n",
       "│ CZ           ┆ 2021             ┆ 107696          │\n",
       "│ CZ           ┆ 2022             ┆ 99013           │\n",
       "│ CZ           ┆ 2023             ┆ 101665          │\n",
       "│ CZ           ┆ 2024             ┆ 82412           │\n",
       "│ HU           ┆ 2021             ┆ 64468           │\n",
       "│ …            ┆ …                ┆ …               │\n",
       "│ HU           ┆ 2024             ┆ 56522           │\n",
       "│ UA           ┆ 2021             ┆ 119939          │\n",
       "│ UA           ┆ 2022             ┆ 97311           │\n",
       "│ UA           ┆ 2023             ┆ 115378          │\n",
       "│ UA           ┆ 2024             ┆ 89449           │\n",
       "└──────────────┴──────────────────┴─────────────────┘"
      ]
     },
     "execution_count": 11,
     "metadata": {},
     "output_type": "execute_result"
    }
   ],
   "source": [
    "yearly_pub_oa = local_works_df.filter(oa_status=\"gold\").group_by([\"country_code\", \"publication_year\"]).agg([\n",
    "    pl.count(\"work_id\").alias(\"open_access_pub\")\n",
    "])\n",
    "\n",
    "yearly_pub_oa.sort([\"country_code\", \"publication_year\"])"
   ]
  },
  {
   "cell_type": "code",
   "execution_count": 12,
   "id": "d4b90695",
   "metadata": {},
   "outputs": [
    {
     "data": {
      "image/png": "[encoded data removed]",
      "text/plain": [
       "<Figure size 640x480 with 1 Axes>"
      ]
     },
     "metadata": {},
     "output_type": "display_data"
    }
   ],
   "source": [
    "import matplotlib.pyplot as plt\n",
    "for country in country_code:\n",
    "    country_data = yearly_pub_oa.filter(pl.col(\"country_code\") == country).sort(\"publication_year\")\n",
    "    plt.plot(country_data[\"publication_year\"], country_data[\"open_access_pub\"], label=country)\n",
    "plt.xticks([2021, 2022, 2023, 2024])\n",
    "plt.legend()\n",
    "plt.show()"
   ]
  },
  {
   "cell_type": "code",
   "execution_count": null,
   "id": "a0443b15",
   "metadata": {},
   "outputs": [],
   "source": []
  }
 ],
 "metadata": {
  "kernelspec": {
   "display_name": "tutorial_2025",
   "language": "python",
   "name": "tutorial_2025"
  },
  "language_info": {
   "codemirror_mode": {
    "name": "ipython",
    "version": 3
   },
   "file_extension": ".py",
   "mimetype": "text/x-python",
   "name": "python",
   "nbconvert_exporter": "python",
   "pygments_lexer": "ipython3",
   "version": "3.9.21"
  }
 },
 "nbformat": 4,
 "nbformat_minor": 5
}
