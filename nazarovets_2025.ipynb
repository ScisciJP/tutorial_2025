{
 "cells": [
  {
   "cell_type": "code",
   "execution_count": null,
   "id": "f46e1324",
   "metadata": {},
   "outputs": [],
   "source": [
    "import os\n",
    "\n",
    "## For Google Colab: Manually set environment variables for AWS credentials\n",
    "# os.environ[\"AWS_ACCESS_KEY_ID\"] = \"PASTE_YOUR_KEY_HERE\"\n",
    "# os.environ[\"AWS_SECRET_ACCESS_KEY\"] = \"PASTE_YOUR_SECRET_HERE\"\n",
    "# os.environ[\"AWS_DEFAULT_REGION\"] = \"us-west-2\"\n",
    "\n",
    "from dotenv import load_dotenv\n",
    "load_dotenv()"
   ]
  },
  {
   "cell_type": "code",
   "execution_count": null,
   "id": "ab301da0",
   "metadata": {},
   "outputs": [],
   "source": [
    "import polars as pl\n",
    "\n",
    "country_code = 'UA'  # Example country code for Ukraine\n",
    "\n",
    "institution_country_code_df = pl.scan_parquet(\"s3://openalex-bulk/institutions/country_code_00.parquet.zstd\")\n",
    "local_institutions_df = institution_country_code_df.explode(\"country_code\").filter(\n",
    "    country_code = country_code\n",
    ")\n",
    "\n",
    "author_institution_df = pl.scan_parquet(\"s3://openalex-bulk/authors/affiliations_institution_id_00.parquet.parquet.zstd\")\n",
    "\n",
    "local_researchers_df = author_institution_df.explode(\"affiliations_institution_id\").join(\n",
    "    local_institutions_df,\n",
    "    left_on=\"affiliations_institution_id\",\n",
    "    right_on=\"institution_id\",\n",
    "    how=\"inner\"\n",
    ")\n",
    "\n",
    "local_researchers = local_researchers_df.unique(\"author_id\").collect().get_column(\"author_id\").to_numpy()"
   ]
  },
  {
   "cell_type": "code",
   "execution_count": 2,
   "id": "0c465456",
   "metadata": {},
   "outputs": [
    {
     "data": {
      "text/plain": [
       "(379687,\n",
       " array(['A5095310827', 'A5096313071', 'A5025181817', 'A5095573162',\n",
       "        'A5098936845', 'A5093912031', 'A5095404538', 'A5063352517',\n",
       "        'A5107299296', 'A5027403504'], dtype=object))"
      ]
     },
     "execution_count": 2,
     "metadata": {},
     "output_type": "execute_result"
    }
   ],
   "source": [
    "len(local_researchers), local_researchers[:10]"
   ]
  },
  {
   "cell_type": "code",
   "execution_count": null,
   "id": "47515d45",
   "metadata": {},
   "outputs": [],
   "source": [
    "is_oa_df = pl.scan_parquet(\"s3://openalex-bulk/works/is_oa/*\",)\n",
    "\n",
    "publication_year_df = pl.scan_parquet(\"s3://openalex-bulk/works/publication_year/*\")\\\n",
    ".filter(\n",
    "    pl.col(\"publication_year\")>2018,\n",
    "    pl.col(\"publication_year\")<2022,\n",
    ")\n",
    "\n",
    "author_works_df = pl.scan_parquet(\n",
    "    \"s3://openalex-bulk/works/author_works/*\",\n",
    "    storage_options={\"region\": \"us-west-2\"}\n",
    ").with_columns(\n",
    "    pl.col(\"work_id\").list.len().alias(\"works_count\")\n",
    ")\n",
    "\n",
    "# local_works_df = author_ids_df.join(local_researchers_df.lazy(), on=\"author_id\", how=\"semi\")\n"
   ]
  },
  {
   "cell_type": "code",
   "execution_count": 4,
   "id": "f98a7fce",
   "metadata": {},
   "outputs": [
    {
     "data": {
      "text/html": [
       "<div><style>\n",
       ".dataframe > thead > tr,\n",
       ".dataframe > tbody > tr {\n",
       "  text-align: right;\n",
       "  white-space: pre-wrap;\n",
       "}\n",
       "</style>\n",
       "<small>shape: (9, 3)</small><table border=\"1\" class=\"dataframe\"><thead><tr><th>statistic</th><th>work_id</th><th>publication_year</th></tr><tr><td>str</td><td>str</td><td>f64</td></tr></thead><tbody><tr><td>&quot;count&quot;</td><td>&quot;31301819&quot;</td><td>3.1301819e7</td></tr><tr><td>&quot;null_count&quot;</td><td>&quot;0&quot;</td><td>0.0</td></tr><tr><td>&quot;mean&quot;</td><td>null</td><td>2019.983774</td></tr><tr><td>&quot;std&quot;</td><td>null</td><td>0.803985</td></tr><tr><td>&quot;min&quot;</td><td>&quot;W1000129717&quot;</td><td>2019.0</td></tr><tr><td>&quot;25%&quot;</td><td>null</td><td>2019.0</td></tr><tr><td>&quot;50%&quot;</td><td>null</td><td>2020.0</td></tr><tr><td>&quot;75%&quot;</td><td>null</td><td>2021.0</td></tr><tr><td>&quot;max&quot;</td><td>&quot;W999971504&quot;</td><td>2021.0</td></tr></tbody></table></div>"
      ],
      "text/plain": [
       "shape: (9, 3)\n",
       "┌────────────┬─────────────┬──────────────────┐\n",
       "│ statistic  ┆ work_id     ┆ publication_year │\n",
       "│ ---        ┆ ---         ┆ ---              │\n",
       "│ str        ┆ str         ┆ f64              │\n",
       "╞════════════╪═════════════╪══════════════════╡\n",
       "│ count      ┆ 31301819    ┆ 3.1301819e7      │\n",
       "│ null_count ┆ 0           ┆ 0.0              │\n",
       "│ mean       ┆ null        ┆ 2019.983774      │\n",
       "│ std        ┆ null        ┆ 0.803985         │\n",
       "│ min        ┆ W1000129717 ┆ 2019.0           │\n",
       "│ 25%        ┆ null        ┆ 2019.0           │\n",
       "│ 50%        ┆ null        ┆ 2020.0           │\n",
       "│ 75%        ┆ null        ┆ 2021.0           │\n",
       "│ max        ┆ W999971504  ┆ 2021.0           │\n",
       "└────────────┴─────────────┴──────────────────┘"
      ]
     },
     "execution_count": 4,
     "metadata": {},
     "output_type": "execute_result"
    }
   ],
   "source": [
    "publication_year_df.describe()"
   ]
  },
  {
   "cell_type": "code",
   "execution_count": 5,
   "id": "edd8ed38",
   "metadata": {},
   "outputs": [
    {
     "data": {
      "text/html": [
       "<div><style>\n",
       ".dataframe > thead > tr,\n",
       ".dataframe > tbody > tr {\n",
       "  text-align: right;\n",
       "  white-space: pre-wrap;\n",
       "}\n",
       "</style>\n",
       "<small>shape: (3, 2)</small><table border=\"1\" class=\"dataframe\"><thead><tr><th>year</th><th>work_count</th></tr><tr><td>i64</td><td>u32</td></tr></thead><tbody><tr><td>2021</td><td>9866792</td></tr><tr><td>2019</td><td>10374698</td></tr><tr><td>2020</td><td>11060329</td></tr></tbody></table></div>"
      ],
      "text/plain": [
       "shape: (3, 2)\n",
       "┌──────┬────────────┐\n",
       "│ year ┆ work_count │\n",
       "│ ---  ┆ ---        │\n",
       "│ i64  ┆ u32        │\n",
       "╞══════╪════════════╡\n",
       "│ 2021 ┆ 9866792    │\n",
       "│ 2019 ┆ 10374698   │\n",
       "│ 2020 ┆ 11060329   │\n",
       "└──────┴────────────┘"
      ]
     },
     "execution_count": 5,
     "metadata": {},
     "output_type": "execute_result"
    }
   ],
   "source": [
    "publication_year_df.select(\n",
    "    pl.col(\"publication_year\").alias(\"year\"),\n",
    "    pl.count(\"work_id\").over(\"publication_year\").alias(\"work_count\")\n",
    ").unique([\"year\", \"work_count\"]).collect()"
   ]
  },
  {
   "cell_type": "code",
   "execution_count": null,
   "id": "06b6de39",
   "metadata": {},
   "outputs": [],
   "source": [
    "local_works_lf = author_works_df.filter(\n",
    "    pl.col(\"author_id\").is_in(local_researchers),\n",
    "    pl.col(\"works_count\") < 100,\n",
    "    pl.col(\"works_count\") > 3\n",
    ").explode(\"work_id\").join(\n",
    "    is_oa_df,\n",
    "    left_on=\"work_id\",\n",
    "    right_on=\"work_id\",\n",
    "    how=\"left\"\n",
    ").join(\n",
    "    publication_year_df,\n",
    "    left_on=\"work_id\",\n",
    "    right_on=\"work_id\",\n",
    "    how=\"inner\"\n",
    ")"
   ]
  },
  {
   "cell_type": "code",
   "execution_count": 7,
   "id": "39c29d71",
   "metadata": {},
   "outputs": [],
   "source": [
    "# local_works_lf = author_works_df.join(\n",
    "#     local_researchers_df,\n",
    "#     left_on=\"author_id\",\n",
    "#     right_on=\"author_id\",\n",
    "#     how=\"semi\"\n",
    "# ).filter(\n",
    "#     pl.col(\"works_count\") < 100,\n",
    "#     # pl.col(\"works_count\") > 3\n",
    "# ).explode(\"work_id\").join(\n",
    "#     is_oa_df,\n",
    "#     left_on=\"work_id\",\n",
    "#     right_on=\"work_id\",\n",
    "#     how=\"left\"\n",
    "# ).join(\n",
    "#     publication_year_df,\n",
    "#     left_on=\"work_id\",\n",
    "#     right_on=\"work_id\",\n",
    "#     how=\"inner\"\n",
    "# )"
   ]
  },
  {
   "cell_type": "code",
   "execution_count": 8,
   "id": "12ddfd03",
   "metadata": {},
   "outputs": [],
   "source": [
    "# author_works_df.head(30).explode(\"work_id\").join(\n",
    "#     publication_year_df,\n",
    "#     left_on=\"work_id\",\n",
    "#     right_on=\"work_id\",\n",
    "#     how=\"inner\"\n",
    "# ).collect().sort(\"publication_year\")"
   ]
  },
  {
   "cell_type": "code",
   "execution_count": 9,
   "id": "4dbc79a1",
   "metadata": {},
   "outputs": [],
   "source": [
    "local_works_df = local_works_lf.collect()\n",
    "# print(local_works_df.estimated_size())"
   ]
  },
  {
   "cell_type": "code",
   "execution_count": 10,
   "id": "cc240bc1",
   "metadata": {},
   "outputs": [
    {
     "data": {
      "text/plain": [
       "(shape: (5, 5)\n",
       " ┌─────────────┬─────────────┬─────────────┬───────┬──────────────────┐\n",
       " │ author_id   ┆ work_id     ┆ works_count ┆ is_oa ┆ publication_year │\n",
       " │ ---         ┆ ---         ┆ ---         ┆ ---   ┆ ---              │\n",
       " │ str         ┆ str         ┆ u32         ┆ bool  ┆ i64              │\n",
       " ╞═════════════╪═════════════╪═════════════╪═══════╪══════════════════╡\n",
       " │ A5109356243 ┆ W2908721879 ┆ 60          ┆ null  ┆ 2019             │\n",
       " │ A5070812440 ┆ W2908721879 ┆ 44          ┆ null  ┆ 2019             │\n",
       " │ A5077421283 ┆ W2911348583 ┆ 68          ┆ null  ┆ 2019             │\n",
       " │ A5056002524 ┆ W2913880318 ┆ 7           ┆ null  ┆ 2019             │\n",
       " │ A5065686221 ┆ W2913880318 ┆ 72          ┆ null  ┆ 2019             │\n",
       " └─────────────┴─────────────┴─────────────┴───────┴──────────────────┘,\n",
       " 684932,\n",
       " shape: (1, 1)\n",
       " ┌──────────────────┐\n",
       " │ publication_year │\n",
       " │ ---              │\n",
       " │ i64              │\n",
       " ╞══════════════════╡\n",
       " │ 2021             │\n",
       " └──────────────────┘)"
      ]
     },
     "execution_count": 10,
     "metadata": {},
     "output_type": "execute_result"
    }
   ],
   "source": [
    "local_works_df.head(), local_works_df.height, local_works_df.select(\"publication_year\").max()"
   ]
  },
  {
   "cell_type": "code",
   "execution_count": 11,
   "id": "03a8d10a",
   "metadata": {},
   "outputs": [
    {
     "data": {
      "text/html": [
       "<div><style>\n",
       ".dataframe > thead > tr,\n",
       ".dataframe > tbody > tr {\n",
       "  text-align: right;\n",
       "  white-space: pre-wrap;\n",
       "}\n",
       "</style>\n",
       "<small>shape: (684_932, 5)</small><table border=\"1\" class=\"dataframe\"><thead><tr><th>author_id</th><th>work_id</th><th>works_count</th><th>is_oa</th><th>publication_year</th></tr><tr><td>str</td><td>str</td><td>u32</td><td>bool</td><td>i64</td></tr></thead><tbody><tr><td>&quot;A5109356243&quot;</td><td>&quot;W2908721879&quot;</td><td>60</td><td>true</td><td>2019</td></tr><tr><td>&quot;A5070812440&quot;</td><td>&quot;W2908721879&quot;</td><td>44</td><td>true</td><td>2019</td></tr><tr><td>&quot;A5077421283&quot;</td><td>&quot;W2911348583&quot;</td><td>68</td><td>true</td><td>2019</td></tr><tr><td>&quot;A5056002524&quot;</td><td>&quot;W2913880318&quot;</td><td>7</td><td>false</td><td>2019</td></tr><tr><td>&quot;A5065686221&quot;</td><td>&quot;W2913880318&quot;</td><td>72</td><td>true</td><td>2019</td></tr><tr><td>&hellip;</td><td>&hellip;</td><td>&hellip;</td><td>&hellip;</td><td>&hellip;</td></tr><tr><td>&quot;A5029153106&quot;</td><td>&quot;W3216473697&quot;</td><td>19</td><td>false</td><td>2019</td></tr><tr><td>&quot;A5079241820&quot;</td><td>&quot;W3216473697&quot;</td><td>44</td><td>true</td><td>2019</td></tr><tr><td>&quot;A5021627730&quot;</td><td>&quot;W3216473697&quot;</td><td>25</td><td>false</td><td>2019</td></tr><tr><td>&quot;A5037465201&quot;</td><td>&quot;W3217420479&quot;</td><td>36</td><td>true</td><td>2019</td></tr><tr><td>&quot;A5007312413&quot;</td><td>&quot;W3217420479&quot;</td><td>25</td><td>true</td><td>2019</td></tr></tbody></table></div>"
      ],
      "text/plain": [
       "shape: (684_932, 5)\n",
       "┌─────────────┬─────────────┬─────────────┬───────┬──────────────────┐\n",
       "│ author_id   ┆ work_id     ┆ works_count ┆ is_oa ┆ publication_year │\n",
       "│ ---         ┆ ---         ┆ ---         ┆ ---   ┆ ---              │\n",
       "│ str         ┆ str         ┆ u32         ┆ bool  ┆ i64              │\n",
       "╞═════════════╪═════════════╪═════════════╪═══════╪══════════════════╡\n",
       "│ A5109356243 ┆ W2908721879 ┆ 60          ┆ true  ┆ 2019             │\n",
       "│ A5070812440 ┆ W2908721879 ┆ 44          ┆ true  ┆ 2019             │\n",
       "│ A5077421283 ┆ W2911348583 ┆ 68          ┆ true  ┆ 2019             │\n",
       "│ A5056002524 ┆ W2913880318 ┆ 7           ┆ false ┆ 2019             │\n",
       "│ A5065686221 ┆ W2913880318 ┆ 72          ┆ true  ┆ 2019             │\n",
       "│ …           ┆ …           ┆ …           ┆ …     ┆ …                │\n",
       "│ A5029153106 ┆ W3216473697 ┆ 19          ┆ false ┆ 2019             │\n",
       "│ A5079241820 ┆ W3216473697 ┆ 44          ┆ true  ┆ 2019             │\n",
       "│ A5021627730 ┆ W3216473697 ┆ 25          ┆ false ┆ 2019             │\n",
       "│ A5037465201 ┆ W3217420479 ┆ 36          ┆ true  ┆ 2019             │\n",
       "│ A5007312413 ┆ W3217420479 ┆ 25          ┆ true  ┆ 2019             │\n",
       "└─────────────┴─────────────┴─────────────┴───────┴──────────────────┘"
      ]
     },
     "execution_count": 11,
     "metadata": {},
     "output_type": "execute_result"
    }
   ],
   "source": [
    "import numpy as np\n",
    "\n",
    "local_works_df = local_works_df.with_columns(\n",
    "    pl.when(local_works_df[\"is_oa\"].is_null())\n",
    "    .then(\n",
    "        pl.Series(\n",
    "            [np.random.choice([True, False]) if is_null else None for is_null in local_works_df[\"is_oa\"].is_null()]\n",
    "        )\n",
    "    )\n",
    "    .otherwise(pl.col(\"is_oa\"))\n",
    "    .alias(\"is_oa\")\n",
    ")\n",
    "local_works_df"
   ]
  },
  {
   "cell_type": "code",
   "execution_count": 12,
   "id": "d7118a78",
   "metadata": {},
   "outputs": [],
   "source": [
    "# local_works_df.group_by([\"is_oa\", \"publication_year\"]).agg(\n",
    "#     pl.col(\"work_id\")\n",
    "# )"
   ]
  },
  {
   "cell_type": "code",
   "execution_count": 19,
   "id": "bffc93a5",
   "metadata": {},
   "outputs": [],
   "source": [
    "yearly_pub_oa = local_works_df.select(\n",
    "    pl.col(\"publication_year\"),\n",
    "    pl.col(\"is_oa\"),\n",
    "    pl.count(\"work_id\").over([\"publication_year\", \"is_oa\"]).alias(\"work_count\"),\n",
    ").unique([\"publication_year\", \"is_oa\"]).pivot(\n",
    "    index=\"publication_year\",\n",
    "    on=\"is_oa\",\n",
    "    values=\"work_count\"\n",
    ").with_columns(\n",
    "    (pl.col(\"true\") / ( pl.col(\"true\") + pl.col(\"false\") )).alias(\"oa_adaption\")\n",
    ").sort(\"publication_year\")"
   ]
  },
  {
   "cell_type": "code",
   "execution_count": 20,
   "id": "1be5764e",
   "metadata": {},
   "outputs": [
    {
     "data": {
      "text/html": [
       "<div><style>\n",
       ".dataframe > thead > tr,\n",
       ".dataframe > tbody > tr {\n",
       "  text-align: right;\n",
       "  white-space: pre-wrap;\n",
       "}\n",
       "</style>\n",
       "<small>shape: (3, 4)</small><table border=\"1\" class=\"dataframe\"><thead><tr><th>publication_year</th><th>true</th><th>false</th><th>oa_adaption</th></tr><tr><td>i64</td><td>u32</td><td>u32</td><td>f64</td></tr></thead><tbody><tr><td>2019</td><td>104164</td><td>106797</td><td>0.49376</td></tr><tr><td>2020</td><td>120736</td><td>120766</td><td>0.499938</td></tr><tr><td>2021</td><td>116381</td><td>116088</td><td>0.50063</td></tr></tbody></table></div>"
      ],
      "text/plain": [
       "shape: (3, 4)\n",
       "┌──────────────────┬────────┬────────┬─────────────┐\n",
       "│ publication_year ┆ true   ┆ false  ┆ oa_adaption │\n",
       "│ ---              ┆ ---    ┆ ---    ┆ ---         │\n",
       "│ i64              ┆ u32    ┆ u32    ┆ f64         │\n",
       "╞══════════════════╪════════╪════════╪═════════════╡\n",
       "│ 2019             ┆ 104164 ┆ 106797 ┆ 0.49376     │\n",
       "│ 2020             ┆ 120736 ┆ 120766 ┆ 0.499938    │\n",
       "│ 2021             ┆ 116381 ┆ 116088 ┆ 0.50063     │\n",
       "└──────────────────┴────────┴────────┴─────────────┘"
      ]
     },
     "execution_count": 20,
     "metadata": {},
     "output_type": "execute_result"
    }
   ],
   "source": [
    "yearly_pub_oa"
   ]
  },
  {
   "cell_type": "code",
   "execution_count": null,
   "id": "d4b90695",
   "metadata": {},
   "outputs": [
    {
     "data": {
      "text/plain": [
       "[<matplotlib.lines.Line2D at 0x7f0a53114e50>]"
      ]
     },
     "execution_count": 21,
     "metadata": {},
     "output_type": "execute_result"
    },
    {
     "data": {
      "image/png": "[encoded data removed]",
      "text/plain": [
       "<Figure size 640x480 with 1 Axes>"
      ]
     },
     "metadata": {},
     "output_type": "display_data"
    }
   ],
   "source": [
    "import matplotlib.pyplot as plt\n",
    "plt.plot(yearly_pub_oa[\"publication_year\"], yearly_pub_oa[\"oa_adaption\"])"
   ]
  }
 ],
 "metadata": {
  "kernelspec": {
   "display_name": "Python (openalex)",
   "language": "python",
   "name": "openalex"
  },
  "language_info": {
   "codemirror_mode": {
    "name": "ipython",
    "version": 3
   },
   "file_extension": ".py",
   "mimetype": "text/x-python",
   "name": "python",
   "nbconvert_exporter": "python",
   "pygments_lexer": "ipython3",
   "version": "3.11.7"
  }
 },
 "nbformat": 4,
 "nbformat_minor": 5
}
